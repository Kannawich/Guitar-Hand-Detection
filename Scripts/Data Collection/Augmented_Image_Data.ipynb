{
 "cells": [
  {
   "cell_type": "code",
   "execution_count": 1,
   "metadata": {},
   "outputs": [],
   "source": [
    "import os\n",
    "from PIL import Image\n",
    "import imgaug.augmenters as iaa\n",
    "import random\n",
    "import numpy as np\n",
    "np.bool = np.bool_"
   ]
  },
  {
   "cell_type": "code",
   "execution_count": 13,
   "metadata": {},
   "outputs": [],
   "source": [
    "source_dir = r'D:\\Chord_Data\\Angle_Barre\\Img\\1'\n",
    "target_dir = r'D:\\Chord_Data\\Angle_Barre\\Img\\1'\n",
    "if not os.path.exists(target_dir):\n",
    "    os.makedirs(target_dir)"
   ]
  },
  {
   "cell_type": "code",
   "execution_count": 2,
   "metadata": {},
   "outputs": [],
   "source": [
    "seq = iaa.SomeOf((1, 4),[\n",
    "    iaa.AddToHueAndSaturation((-5, 5)),\n",
    "    iaa.MultiplyBrightness((0.7, 1.3)), \n",
    "    iaa.LinearContrast((0.75, 1.5)),   \n",
    "    iaa.Affine(rotate=(-5, 5))\n",
    "])"
   ]
  },
  {
   "cell_type": "code",
   "execution_count": 4,
   "metadata": {},
   "outputs": [],
   "source": [
    "n = 2 #number of class\n",
    "for i in range(n):\n",
    "    source_dir = f'D:\\\\Chord_Data\\\\Chords\\\\Img\\\\{i}'\n",
    "    target_dir = f'D:\\\\Chord_Data\\\\Chords\\\\Img\\\\{i}'\n",
    "    images = [f for f in os.listdir(source_dir) if f.endswith(('jpg'))]\n",
    "    for image_name in images:\n",
    "        image_path = os.path.join(source_dir, image_name)\n",
    "        image = Image.open(image_path)\n",
    "        image_np = np.array(image)\n",
    "        image_aug = seq(image=image_np)\n",
    "        image = Image.fromarray(image_aug)\n",
    "        _, ext = os.path.splitext(image_name)\n",
    "        target_path = os.path.join(target_dir, f'{os.path.splitext(image_name)[0]}_Aug{ext}')\n",
    "        image.save(target_path)"
   ]
  }
 ],
 "metadata": {
  "kernelspec": {
   "display_name": "Python 3",
   "language": "python",
   "name": "python3"
  },
  "language_info": {
   "codemirror_mode": {
    "name": "ipython",
    "version": 3
   },
   "file_extension": ".py",
   "mimetype": "text/x-python",
   "name": "python",
   "nbconvert_exporter": "python",
   "pygments_lexer": "ipython3",
   "version": "3.10.11"
  }
 },
 "nbformat": 4,
 "nbformat_minor": 2
}
