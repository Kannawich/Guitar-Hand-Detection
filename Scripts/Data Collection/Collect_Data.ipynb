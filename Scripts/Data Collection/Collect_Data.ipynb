{
 "cells": [
  {
   "cell_type": "code",
   "execution_count": 1,
   "metadata": {},
   "outputs": [
    {
     "name": "stdout",
     "output_type": "stream",
     "text": [
      "Requirement already satisfied: ipywidgets in c:\\users\\acer\\appdata\\local\\packages\\pythonsoftwarefoundation.python.3.10_qbz5n2kfra8p0\\localcache\\local-packages\\python310\\site-packages (8.1.2)Note: you may need to restart the kernel to use updated packages.\n",
      "\n",
      "Requirement already satisfied: comm>=0.1.3 in c:\\users\\acer\\appdata\\local\\packages\\pythonsoftwarefoundation.python.3.10_qbz5n2kfra8p0\\localcache\\local-packages\\python310\\site-packages (from ipywidgets) (0.2.2)\n",
      "Requirement already satisfied: ipython>=6.1.0 in c:\\users\\acer\\appdata\\local\\packages\\pythonsoftwarefoundation.python.3.10_qbz5n2kfra8p0\\localcache\\local-packages\\python310\\site-packages (from ipywidgets) (8.4.0)\n",
      "Requirement already satisfied: traitlets>=4.3.1 in c:\\users\\acer\\appdata\\local\\packages\\pythonsoftwarefoundation.python.3.10_qbz5n2kfra8p0\\localcache\\local-packages\\python310\\site-packages (from ipywidgets) (5.2.2.post1)\n",
      "Requirement already satisfied: widgetsnbextension~=4.0.10 in c:\\users\\acer\\appdata\\local\\packages\\pythonsoftwarefoundation.python.3.10_qbz5n2kfra8p0\\localcache\\local-packages\\python310\\site-packages (from ipywidgets) (4.0.10)\n",
      "Requirement already satisfied: jupyterlab-widgets~=3.0.10 in c:\\users\\acer\\appdata\\local\\packages\\pythonsoftwarefoundation.python.3.10_qbz5n2kfra8p0\\localcache\\local-packages\\python310\\site-packages (from ipywidgets) (3.0.10)\n",
      "Requirement already satisfied: backcall in c:\\users\\acer\\appdata\\local\\packages\\pythonsoftwarefoundation.python.3.10_qbz5n2kfra8p0\\localcache\\local-packages\\python310\\site-packages (from ipython>=6.1.0->ipywidgets) (0.2.0)\n",
      "Requirement already satisfied: decorator in c:\\users\\acer\\appdata\\local\\packages\\pythonsoftwarefoundation.python.3.10_qbz5n2kfra8p0\\localcache\\local-packages\\python310\\site-packages (from ipython>=6.1.0->ipywidgets) (5.1.1)\n",
      "Requirement already satisfied: jedi>=0.16 in c:\\users\\acer\\appdata\\local\\packages\\pythonsoftwarefoundation.python.3.10_qbz5n2kfra8p0\\localcache\\local-packages\\python310\\site-packages (from ipython>=6.1.0->ipywidgets) (0.18.1)\n",
      "Requirement already satisfied: matplotlib-inline in c:\\users\\acer\\appdata\\local\\packages\\pythonsoftwarefoundation.python.3.10_qbz5n2kfra8p0\\localcache\\local-packages\\python310\\site-packages (from ipython>=6.1.0->ipywidgets) (0.1.3)\n",
      "Requirement already satisfied: pickleshare in c:\\users\\acer\\appdata\\local\\packages\\pythonsoftwarefoundation.python.3.10_qbz5n2kfra8p0\\localcache\\local-packages\\python310\\site-packages (from ipython>=6.1.0->ipywidgets) (0.7.5)\n",
      "Requirement already satisfied: prompt-toolkit!=3.0.0,!=3.0.1,<3.1.0,>=2.0.0 in c:\\users\\acer\\appdata\\local\\packages\\pythonsoftwarefoundation.python.3.10_qbz5n2kfra8p0\\localcache\\local-packages\\python310\\site-packages (from ipython>=6.1.0->ipywidgets) (3.0.29)\n",
      "Requirement already satisfied: pygments>=2.4.0 in c:\\users\\acer\\appdata\\local\\packages\\pythonsoftwarefoundation.python.3.10_qbz5n2kfra8p0\\localcache\\local-packages\\python310\\site-packages (from ipython>=6.1.0->ipywidgets) (2.12.0)\n",
      "Requirement already satisfied: setuptools>=18.5 in c:\\program files\\windowsapps\\pythonsoftwarefoundation.python.3.10_3.10.3056.0_x64__qbz5n2kfra8p0\\lib\\site-packages (from ipython>=6.1.0->ipywidgets) (65.5.0)\n",
      "Requirement already satisfied: stack-data in c:\\users\\acer\\appdata\\local\\packages\\pythonsoftwarefoundation.python.3.10_qbz5n2kfra8p0\\localcache\\local-packages\\python310\\site-packages (from ipython>=6.1.0->ipywidgets) (0.3.0)\n",
      "Requirement already satisfied: colorama in c:\\users\\acer\\appdata\\local\\packages\\pythonsoftwarefoundation.python.3.10_qbz5n2kfra8p0\\localcache\\local-packages\\python310\\site-packages (from ipython>=6.1.0->ipywidgets) (0.4.4)\n",
      "Requirement already satisfied: parso<0.9.0,>=0.8.0 in c:\\users\\acer\\appdata\\local\\packages\\pythonsoftwarefoundation.python.3.10_qbz5n2kfra8p0\\localcache\\local-packages\\python310\\site-packages (from jedi>=0.16->ipython>=6.1.0->ipywidgets) (0.8.3)\n",
      "Requirement already satisfied: wcwidth in c:\\users\\acer\\appdata\\local\\packages\\pythonsoftwarefoundation.python.3.10_qbz5n2kfra8p0\\localcache\\local-packages\\python310\\site-packages (from prompt-toolkit!=3.0.0,!=3.0.1,<3.1.0,>=2.0.0->ipython>=6.1.0->ipywidgets) (0.2.5)\n",
      "Requirement already satisfied: executing in c:\\users\\acer\\appdata\\local\\packages\\pythonsoftwarefoundation.python.3.10_qbz5n2kfra8p0\\localcache\\local-packages\\python310\\site-packages (from stack-data->ipython>=6.1.0->ipywidgets) (0.8.3)\n",
      "Requirement already satisfied: asttokens in c:\\users\\acer\\appdata\\local\\packages\\pythonsoftwarefoundation.python.3.10_qbz5n2kfra8p0\\localcache\\local-packages\\python310\\site-packages (from stack-data->ipython>=6.1.0->ipywidgets) (2.0.5)\n",
      "Requirement already satisfied: pure-eval in c:\\users\\acer\\appdata\\local\\packages\\pythonsoftwarefoundation.python.3.10_qbz5n2kfra8p0\\localcache\\local-packages\\python310\\site-packages (from stack-data->ipython>=6.1.0->ipywidgets) (0.2.2)\n",
      "Requirement already satisfied: six in c:\\users\\acer\\appdata\\local\\packages\\pythonsoftwarefoundation.python.3.10_qbz5n2kfra8p0\\localcache\\local-packages\\python310\\site-packages (from asttokens->stack-data->ipython>=6.1.0->ipywidgets) (1.16.0)\n"
     ]
    },
    {
     "name": "stderr",
     "output_type": "stream",
     "text": [
      "\n",
      "[notice] A new release of pip is available: 23.2.1 -> 24.0\n",
      "[notice] To update, run: C:\\Users\\Acer\\AppData\\Local\\Microsoft\\WindowsApps\\PythonSoftwareFoundation.Python.3.10_qbz5n2kfra8p0\\python.exe -m pip install --upgrade pip\n"
     ]
    }
   ],
   "source": [
    "pip install ipywidgets\n"
   ]
  },
  {
   "cell_type": "code",
   "execution_count": 2,
   "metadata": {},
   "outputs": [
    {
     "name": "stdout",
     "output_type": "stream",
     "text": [
      "Requirement already satisfied: mediapipe in c:\\users\\acer\\appdata\\local\\packages\\pythonsoftwarefoundation.python.3.10_qbz5n2kfra8p0\\localcache\\local-packages\\python310\\site-packages (0.10.2)Note: you may need to restart the kernel to use updated packages.\n",
      "\n",
      "Requirement already satisfied: absl-py in c:\\users\\acer\\appdata\\local\\packages\\pythonsoftwarefoundation.python.3.10_qbz5n2kfra8p0\\localcache\\local-packages\\python310\\site-packages (from mediapipe) (1.4.0)\n",
      "Requirement already satisfied: attrs>=19.1.0 in c:\\users\\acer\\appdata\\local\\packages\\pythonsoftwarefoundation.python.3.10_qbz5n2kfra8p0\\localcache\\local-packages\\python310\\site-packages (from mediapipe) (23.1.0)\n",
      "Requirement already satisfied: flatbuffers>=2.0 in c:\\users\\acer\\appdata\\local\\packages\\pythonsoftwarefoundation.python.3.10_qbz5n2kfra8p0\\localcache\\local-packages\\python310\\site-packages (from mediapipe) (23.5.26)\n",
      "Requirement already satisfied: matplotlib in c:\\users\\acer\\appdata\\local\\packages\\pythonsoftwarefoundation.python.3.10_qbz5n2kfra8p0\\localcache\\local-packages\\python310\\site-packages (from mediapipe) (3.5.2)\n",
      "Requirement already satisfied: numpy in c:\\users\\acer\\appdata\\local\\packages\\pythonsoftwarefoundation.python.3.10_qbz5n2kfra8p0\\localcache\\local-packages\\python310\\site-packages (from mediapipe) (1.26.4)\n",
      "Requirement already satisfied: opencv-contrib-python in c:\\users\\acer\\appdata\\local\\packages\\pythonsoftwarefoundation.python.3.10_qbz5n2kfra8p0\\localcache\\local-packages\\python310\\site-packages (from mediapipe) (4.8.0.74)\n",
      "Requirement already satisfied: protobuf<4,>=3.11 in c:\\users\\acer\\appdata\\local\\packages\\pythonsoftwarefoundation.python.3.10_qbz5n2kfra8p0\\localcache\\local-packages\\python310\\site-packages (from mediapipe) (3.20.3)\n",
      "Requirement already satisfied: sounddevice>=0.4.4 in c:\\users\\acer\\appdata\\local\\packages\\pythonsoftwarefoundation.python.3.10_qbz5n2kfra8p0\\localcache\\local-packages\\python310\\site-packages (from mediapipe) (0.4.6)\n",
      "Requirement already satisfied: CFFI>=1.0 in c:\\users\\acer\\appdata\\local\\packages\\pythonsoftwarefoundation.python.3.10_qbz5n2kfra8p0\\localcache\\local-packages\\python310\\site-packages (from sounddevice>=0.4.4->mediapipe) (1.15.1)\n",
      "Requirement already satisfied: cycler>=0.10 in c:\\users\\acer\\appdata\\local\\packages\\pythonsoftwarefoundation.python.3.10_qbz5n2kfra8p0\\localcache\\local-packages\\python310\\site-packages (from matplotlib->mediapipe) (0.11.0)\n",
      "Requirement already satisfied: fonttools>=4.22.0 in c:\\users\\acer\\appdata\\local\\packages\\pythonsoftwarefoundation.python.3.10_qbz5n2kfra8p0\\localcache\\local-packages\\python310\\site-packages (from matplotlib->mediapipe) (4.33.3)\n",
      "Requirement already satisfied: kiwisolver>=1.0.1 in c:\\users\\acer\\appdata\\local\\packages\\pythonsoftwarefoundation.python.3.10_qbz5n2kfra8p0\\localcache\\local-packages\\python310\\site-packages (from matplotlib->mediapipe) (1.4.3)\n",
      "Requirement already satisfied: packaging>=20.0 in c:\\users\\acer\\appdata\\local\\packages\\pythonsoftwarefoundation.python.3.10_qbz5n2kfra8p0\\localcache\\local-packages\\python310\\site-packages (from matplotlib->mediapipe) (21.3)\n",
      "Requirement already satisfied: pillow>=6.2.0 in c:\\users\\acer\\appdata\\local\\packages\\pythonsoftwarefoundation.python.3.10_qbz5n2kfra8p0\\localcache\\local-packages\\python310\\site-packages (from matplotlib->mediapipe) (9.1.0)\n",
      "Requirement already satisfied: pyparsing>=2.2.1 in c:\\users\\acer\\appdata\\local\\packages\\pythonsoftwarefoundation.python.3.10_qbz5n2kfra8p0\\localcache\\local-packages\\python310\\site-packages (from matplotlib->mediapipe) (3.0.9)\n",
      "Requirement already satisfied: python-dateutil>=2.7 in c:\\users\\acer\\appdata\\local\\packages\\pythonsoftwarefoundation.python.3.10_qbz5n2kfra8p0\\localcache\\local-packages\\python310\\site-packages (from matplotlib->mediapipe) (2.8.2)\n",
      "Requirement already satisfied: pycparser in c:\\users\\acer\\appdata\\local\\packages\\pythonsoftwarefoundation.python.3.10_qbz5n2kfra8p0\\localcache\\local-packages\\python310\\site-packages (from CFFI>=1.0->sounddevice>=0.4.4->mediapipe) (2.21)\n",
      "Requirement already satisfied: six>=1.5 in c:\\users\\acer\\appdata\\local\\packages\\pythonsoftwarefoundation.python.3.10_qbz5n2kfra8p0\\localcache\\local-packages\\python310\\site-packages (from python-dateutil>=2.7->matplotlib->mediapipe) (1.16.0)\n"
     ]
    },
    {
     "name": "stderr",
     "output_type": "stream",
     "text": [
      "\n",
      "[notice] A new release of pip is available: 23.2.1 -> 24.0\n",
      "[notice] To update, run: C:\\Users\\Acer\\AppData\\Local\\Microsoft\\WindowsApps\\PythonSoftwareFoundation.Python.3.10_qbz5n2kfra8p0\\python.exe -m pip install --upgrade pip\n"
     ]
    }
   ],
   "source": [
    "pip install mediapipe"
   ]
  },
  {
   "cell_type": "code",
   "execution_count": 3,
   "metadata": {},
   "outputs": [
    {
     "name": "stdout",
     "output_type": "stream",
     "text": [
      "Requirement already satisfied: pandas in c:\\users\\acer\\appdata\\local\\packages\\pythonsoftwarefoundation.python.3.10_qbz5n2kfra8p0\\localcache\\local-packages\\python310\\site-packages (2.2.2)\n",
      "Requirement already satisfied: numpy>=1.22.4 in c:\\users\\acer\\appdata\\local\\packages\\pythonsoftwarefoundation.python.3.10_qbz5n2kfra8p0\\localcache\\local-packages\\python310\\site-packages (from pandas) (1.26.4)\n",
      "Requirement already satisfied: python-dateutil>=2.8.2 in c:\\users\\acer\\appdata\\local\\packages\\pythonsoftwarefoundation.python.3.10_qbz5n2kfra8p0\\localcache\\local-packages\\python310\\site-packages (from pandas) (2.8.2)\n",
      "Requirement already satisfied: pytz>=2020.1 in c:\\users\\acer\\appdata\\local\\packages\\pythonsoftwarefoundation.python.3.10_qbz5n2kfra8p0\\localcache\\local-packages\\python310\\site-packages (from pandas) (2024.1)\n",
      "Requirement already satisfied: tzdata>=2022.7 in c:\\users\\acer\\appdata\\local\\packages\\pythonsoftwarefoundation.python.3.10_qbz5n2kfra8p0\\localcache\\local-packages\\python310\\site-packages (from pandas) (2024.1)\n",
      "Requirement already satisfied: six>=1.5 in c:\\users\\acer\\appdata\\local\\packages\\pythonsoftwarefoundation.python.3.10_qbz5n2kfra8p0\\localcache\\local-packages\\python310\\site-packages (from python-dateutil>=2.8.2->pandas) (1.16.0)\n",
      "Note: you may need to restart the kernel to use updated packages.\n"
     ]
    },
    {
     "name": "stderr",
     "output_type": "stream",
     "text": [
      "\n",
      "[notice] A new release of pip is available: 23.2.1 -> 24.0\n",
      "[notice] To update, run: C:\\Users\\Acer\\AppData\\Local\\Microsoft\\WindowsApps\\PythonSoftwareFoundation.Python.3.10_qbz5n2kfra8p0\\python.exe -m pip install --upgrade pip\n"
     ]
    }
   ],
   "source": [
    "pip install pandas"
   ]
  },
  {
   "cell_type": "code",
   "execution_count": 1,
   "metadata": {},
   "outputs": [],
   "source": [
    "import cv2\n",
    "import os\n",
    "import mediapipe as mp\n",
    "import ipywidgets as widgets\n",
    "from IPython.display import display\n",
    "import numpy as np\n",
    "import pandas as pd\n",
    "from google.protobuf.json_format import MessageToDict\n",
    "import csv"
   ]
  },
  {
   "cell_type": "code",
   "execution_count": 2,
   "metadata": {},
   "outputs": [],
   "source": [
    "def create_folder(folder_path):\n",
    "    if not os.path.exists(folder_path):\n",
    "        os.makedirs(folder_path)"
   ]
  },
  {
   "cell_type": "code",
   "execution_count": 3,
   "metadata": {},
   "outputs": [],
   "source": [
    "folder_path = r'D:\\Chord_Data'\n",
    "create_folder(folder_path)"
   ]
  },
  {
   "cell_type": "code",
   "execution_count": 4,
   "metadata": {},
   "outputs": [],
   "source": [
    "mp_hands = mp.solutions.hands\n",
    "hands = mp_hands.Hands(static_image_mode=False, max_num_hands=1, min_detection_confidence=0.5)"
   ]
  },
  {
   "cell_type": "code",
   "execution_count": 4,
   "metadata": {},
   "outputs": [
    {
     "data": {
      "application/vnd.jupyter.widget-view+json": {
       "model_id": "0ff33e26c8c7449dae2926dec493edad",
       "version_major": 2,
       "version_minor": 0
      },
      "text/plain": [
       "Dropdown(description='Finger:', options=('Index', 'Middle', 'Ring', 'Pinky', 'Angle_Open', 'Angle_Barre'), val…"
      ]
     },
     "metadata": {},
     "output_type": "display_data"
    },
    {
     "data": {
      "application/vnd.jupyter.widget-view+json": {
       "model_id": "3e3c019e841a44bb9a2b6aae52c85f8e",
       "version_major": 2,
       "version_minor": 0
      },
      "text/plain": [
       "Dropdown(description='Wrong/Right:', options=('Right', 'Wrong'), value='Right')"
      ]
     },
     "metadata": {},
     "output_type": "display_data"
    }
   ],
   "source": [
    "chord_shape = widgets.Dropdown(\n",
    "    options=['C', 'D', 'E', 'G', 'A', 'Dm', 'Em', 'Am', 'E_Barre', 'A_Barre', 'Em_Barre', 'Am_Barre'],\n",
    "    value='C',\n",
    "    description='Chord:',\n",
    "    disabled=False,\n",
    ")\n",
    "\n",
    "finger = widgets.Dropdown(\n",
    "    options=['Index', 'Middle', 'Ring','Pinky','Angle_Open','Angle_Barre'],\n",
    "    value='Index',\n",
    "    description='Finger:',\n",
    "    disabled=False,\n",
    ")\n",
    "\n",
    "wrong_right = widgets.Dropdown(\n",
    "    options=['Right','Wrong'],\n",
    "    value='Right', \n",
    "    description='Wrong/Right:',\n",
    "    disabled=False,\n",
    ")\n",
    "\n",
    "display(chord_shape)\n",
    "display(finger)\n",
    "display(wrong_right)"
   ]
  },
  {
   "cell_type": "code",
   "execution_count": 47,
   "metadata": {},
   "outputs": [],
   "source": [
    "video_path = 'D:\\Chord_Data\\Chords\\\\Am_Barre_test.mp4'\n",
    "cap = cv2.VideoCapture(video_path)"
   ]
  },
  {
   "cell_type": "code",
   "execution_count": 34,
   "metadata": {},
   "outputs": [
    {
     "data": {
      "text/plain": [
       "'D:\\\\Chord_Data\\\\Angle_Barre\\\\Test_right_2.mp4'"
      ]
     },
     "execution_count": 34,
     "metadata": {},
     "output_type": "execute_result"
    }
   ],
   "source": [
    "video_path"
   ]
  },
  {
   "cell_type": "code",
   "execution_count": 7,
   "metadata": {},
   "outputs": [],
   "source": [
    "def getbigclass(chord):\n",
    "    classnum = 0\n",
    "    chord_list=['C', 'D', 'E', 'G', 'A', 'Dm', 'Em', 'Am', 'E_Barre', 'A_Barre', 'Em_Barre', 'Am_Barre']\n",
    "    for i in range(len(chord_list)):\n",
    "        if chord == chord_list[i]:\n",
    "            classnum = i\n",
    "            break\n",
    "    return classnum"
   ]
  },
  {
   "cell_type": "code",
   "execution_count": 8,
   "metadata": {},
   "outputs": [],
   "source": [
    "def getinsideclass(type):\n",
    "    classnum = 0\n",
    "    values=['Right', 'Wrong']\n",
    "    for i in range(len(values)):\n",
    "        if type == values[i]:\n",
    "            classnum = i\n",
    "            break\n",
    "    return classnum"
   ]
  },
  {
   "cell_type": "code",
   "execution_count": 9,
   "metadata": {},
   "outputs": [],
   "source": [
    "x_data = []\n",
    "y_data = []\n",
    "landmarks_data = []"
   ]
  },
  {
   "cell_type": "code",
   "execution_count": 49,
   "metadata": {},
   "outputs": [
    {
     "name": "stdout",
     "output_type": "stream",
     "text": [
      "0\n",
      "0\n",
      "6480\n"
     ]
    }
   ],
   "source": [
    "print(len(x_data))\n",
    "print(len(y_data))\n",
    "print(len(landmarks_data))"
   ]
  },
  {
   "cell_type": "code",
   "execution_count": 35,
   "metadata": {},
   "outputs": [],
   "source": [
    "landmarks_data = landmarks_data[:3600]\n",
    "x_data = x_data[:4200]\n",
    "y_data = y_data[:4200]"
   ]
  },
  {
   "cell_type": "code",
   "execution_count": 31,
   "metadata": {},
   "outputs": [],
   "source": [
    "def capture_hand_images_chord(chord, num_images=540, image_size=(400, 400)):\n",
    "    classnumber = getbigclass(chord)\n",
    "    folder_path_chord = os.path.join(folder_path, 'Chords','Test_Img', f'{classnumber}')\n",
    "    create_folder(folder_path_chord)\n",
    "    count = 0\n",
    "    while count < num_images:\n",
    "        ret, frame = cap.read()\n",
    "        framewithoutland = frame.copy()\n",
    "        if not ret:\n",
    "            break\n",
    "        rgb_frame = cv2.cvtColor(frame, cv2.COLOR_BGR2RGB)\n",
    "        results = hands.process(rgb_frame)\n",
    "\n",
    "        img_y, img_x, _ = frame.shape\n",
    "\n",
    "        keypoint_connections = [(0,1), (1,2), (2,3), (3,4), (0,5), (5,6), (6,7), (7,8), (5,9), (9,10), (10,11), (11,12), (9,13), (13,14), (14,15), (15,16), (13,17), (17,18), (18,19), (19,20), (0,17)]\n",
    "        point_draw = [4,5,6,7,8,9,10,11,12,13,14,15,16,17,18,19,20]\n",
    "        if results.multi_hand_landmarks:\n",
    "            for hand_landmarks in results.multi_hand_landmarks:\n",
    "                landmarks = MessageToDict(hand_landmarks)[\"landmark\"]\n",
    "                decoded_landmarks = []\n",
    "                for l in landmarks:\n",
    "                    x, y, z = int(l['x'] * img_x), int(l['y'] * img_y), l['z']\n",
    "                    decoded_landmarks.append({'x': x, 'y': y, 'z': z})\n",
    "\n",
    "                landmarks_row = [classnumber] + [l['x']/img_x for l in decoded_landmarks] + [l['y']/img_y for l in decoded_landmarks] + [l['z'] for l in decoded_landmarks] # for csv data\n",
    "                landmarks_data.append(landmarks_row)\n",
    "                for i in range(21):\n",
    "                    cv2.circle(frame, (decoded_landmarks[i]['x'], decoded_landmarks[i]['y']), 5, (255, 255 ,255), 5)\n",
    "                for c in keypoint_connections:\n",
    "                    cv2.line(frame, (decoded_landmarks[c[0]]['x'], decoded_landmarks[c[0]]['y']) , (decoded_landmarks[c[1]]['x'], decoded_landmarks[c[1]]['y']), (255, 255, 255), 5)\n",
    "        \n",
    "        cv2.imshow('Hand Landmarks', frame)\n",
    "        cv2.waitKey(1)\n",
    "\n",
    "        skeleton = cv2.bitwise_and(frame, cv2.bitwise_not(framewithoutland))\n",
    "        skeleton = cv2.addWeighted(skeleton, 1, skeleton, 0, 50)\n",
    "        if results.multi_hand_landmarks:\n",
    "            for hand_landmarks in results.multi_hand_landmarks:\n",
    "                min_x = min(decoded_landmarks[i]['x'] for i in point_draw)\n",
    "                min_y = min(decoded_landmarks[i]['y'] for i in point_draw)\n",
    "                max_x = max(decoded_landmarks[i]['x'] for i in point_draw)\n",
    "                max_y = max(decoded_landmarks[i]['y'] for i in point_draw)\n",
    "                real_x_min, real_y_min = int(min_x), int(min_y)\n",
    "                real_x_max, real_y_max = int(max_x), int(max_y)\n",
    "                if real_x_min >= 0 and real_x_max <= img_x and real_y_min >= 0 and real_y_max <= img_y:\n",
    "                    hand_cropped = framewithoutland[int(real_y_min)-25:int(real_y_max)+25, int(real_x_min)-25:int(real_x_max)+25]\n",
    "                    if not hand_cropped.size == 0:\n",
    "                        hand_image = cv2.resize(hand_cropped, image_size)\n",
    "                        image_path = os.path.join(folder_path_chord, f'hand_{count}.jpg')\n",
    "                        cv2.imwrite(image_path, hand_image) # for image data\n",
    "                        count += 1\n"
   ]
  },
  {
   "cell_type": "code",
   "execution_count": 53,
   "metadata": {},
   "outputs": [],
   "source": [
    "def capture_hand_finger_wrong(finger, wrong_right, num_images=76, image_size=(400, 400)):\n",
    "    classnumber = getinsideclass(wrong_right)\n",
    "    folder_path_wrong_right = os.path.join(folder_path, finger, 'test_img', f'{classnumber}')\n",
    "    create_folder(folder_path_wrong_right)\n",
    "    count = 0\n",
    "    while count < num_images:\n",
    "        ret, frame = cap.read()\n",
    "        framewithoutland = frame.copy()\n",
    "        if not ret: \n",
    "            break\n",
    "        rgb_frame = cv2.cvtColor(frame, cv2.COLOR_BGR2RGB)\n",
    "        results = hands.process(rgb_frame)\n",
    "\n",
    "        img_y, img_x, _ = frame.shape\n",
    "\n",
    "        if finger == 'Index':\n",
    "            keypoint_connections = [(5, 6), (6, 7), (7, 8)]\n",
    "            point_draw = [5, 6, 7, 8]\n",
    "            point_draw = [6, 7, 8] # For image data\n",
    "        elif finger == 'Middle':\n",
    "            keypoint_connections = [(9, 10), (10, 11), (11, 12)]\n",
    "            point_draw = [9, 10, 11, 12]\n",
    "            point_draw = [10, 11, 12] # For image data\n",
    "        elif finger == 'Ring':\n",
    "            keypoint_connections = [(13, 14), (14, 15), (15, 16)]\n",
    "            point_draw = [13, 14, 15, 16]\n",
    "            point_draw = [14, 15, 16] # For image data\n",
    "        elif finger == 'Pinky':\n",
    "            keypoint_connections = [(17, 18), (18, 19), (19, 20)]\n",
    "            point_draw = [17, 18, 19, 20]\n",
    "            point_draw = [18, 19, 20] # For image data\n",
    "        elif finger == 'Angle_Open':\n",
    "            keypoint_connections = [(0, 1), (0, 5), (0, 17), (5, 17)]\n",
    "            keypoint_connections = [(0, 1), (1, 5), (5, 9), (9, 13), (13, 17)] # For image data\n",
    "            point_draw = [0, 1, 5, 17]\n",
    "            point_draw = [0, 1, 5, 9, 13, 17] # For image data\n",
    "        else:\n",
    "            keypoint_connections = [(0, 1), (0, 5), (5, 6), (6, 7), (7, 8), (0, 17), (5, 17), (17, 18)]\n",
    "            point_draw = [0, 1, 5, 6, 7, 8, 17, 18]\n",
    "            keypoint_connections = [(5, 6), (6, 7), (7, 8)] # For image data\n",
    "            point_draw = [5, 6, 7, 8] # For image data\n",
    "\n",
    "\n",
    "        if results.multi_hand_landmarks:\n",
    "            for hand_landmarks in results.multi_hand_landmarks:\n",
    "                landmarks = MessageToDict(hand_landmarks)[\"landmark\"]\n",
    "                decoded_landmarks = []\n",
    "                for l in landmarks:\n",
    "                    x, y, z = int(l['x'] * img_x), int(l['y'] * img_y), l['z']\n",
    "                    decoded_landmarks.append({'x': x, 'y': y, 'z': z})\n",
    "                index_finger_landmarks = [decoded_landmarks[i] for i in point_draw]\n",
    "                landmarks_data.append([classnumber] + [point['x']/img_x for point in index_finger_landmarks] + [point['y']/img_x for point in index_finger_landmarks] + [point['z'] for point in index_finger_landmarks]) # for csv data\n",
    "                for i in point_draw:\n",
    "                    cv2.circle(frame, (decoded_landmarks[i]['x'], decoded_landmarks[i]['y']), 5, (255, 255 ,255), 2)\n",
    "                for c in keypoint_connections:\n",
    "                    cv2.line(frame, (decoded_landmarks[c[0]]['x'], decoded_landmarks[c[0]]['y']) , (decoded_landmarks[c[1]]['x'], decoded_landmarks[c[1]]['y']), (255, 255, 255), 2)\n",
    "\n",
    "        cv2.imshow('Hand Landmarks', frame)\n",
    "        cv2.waitKey(1)\n",
    "\n",
    "        skeleton = cv2.bitwise_and(frame, cv2.bitwise_not(framewithoutland))\n",
    "        skeleton = cv2.addWeighted(skeleton, 1, skeleton, 0, 50)\n",
    "        if results.multi_hand_landmarks:\n",
    "            for hand_landmarks in results.multi_hand_landmarks:\n",
    "                min_x = min(decoded_landmarks[i]['x'] for i in point_draw)\n",
    "                min_y = min(decoded_landmarks[i]['y'] for i in point_draw)\n",
    "                max_x = max(decoded_landmarks[i]['x'] for i in point_draw)\n",
    "                max_y = max(decoded_landmarks[i]['y'] for i in point_draw)\n",
    "                real_x_min, real_y_min = int(min_x), int(min_y)\n",
    "                real_x_max, real_y_max = int(max_x), int(max_y)\n",
    "                lenght_x = real_x_max - real_x_min\n",
    "                lenght_y = real_y_max - real_y_min\n",
    "                if lenght_x > lenght_y:\n",
    "                    real_y_min -= (lenght_x - lenght_y)/8\n",
    "                    real_y_max += (lenght_x - lenght_y)/8\n",
    "                else:\n",
    "                    real_x_min -= (lenght_y - lenght_x)/8\n",
    "                    real_x_max += (lenght_y - lenght_x)/8\n",
    "                #print(real_x_min, real_x_max, real_y_min, real_y_max)\n",
    "                if real_x_min >= 0 and real_x_max <= img_x and real_y_min >= 0 and real_y_max <= img_y:\n",
    "                    #hand_cropped = skeleton[int(real_y_min)-10:int(real_y_max)+10, int(real_x_min)-10:int(real_x_max)+10]\n",
    "                    hand_cropped = framewithoutland[int(real_y_min)-23:int(real_y_max)+23, int(real_x_min)-23:int(real_x_max)+23]\n",
    "                    if not hand_cropped.size == 0:\n",
    "                        hand_image = cv2.resize(hand_cropped, image_size)\n",
    "                        image_path = os.path.join(folder_path_wrong_right, f'finger_{count}.jpg')\n",
    "                        landmarks_data.append([classnumber] + [point['x']/img_x for point in index_finger_landmarks] + [point['y']/img_y for point in index_finger_landmarks] + [point['z'] for point in index_finger_landmarks])\n",
    "                        cv2.imwrite(image_path, hand_image) # for image data\n",
    "                        count += 1\n"
   ]
  },
  {
   "cell_type": "code",
   "execution_count": 12,
   "metadata": {},
   "outputs": [
    {
     "name": "stdout",
     "output_type": "stream",
     "text": [
      "C Middle Right\n"
     ]
    }
   ],
   "source": [
    "print(chord_shape.value, finger.value, wrong_right.value)"
   ]
  },
  {
   "cell_type": "code",
   "execution_count": 48,
   "metadata": {},
   "outputs": [],
   "source": [
    "capture_hand_images_chord(chord_shape.value)"
   ]
  },
  {
   "cell_type": "code",
   "execution_count": 95,
   "metadata": {},
   "outputs": [],
   "source": [
    "csv_file_path = os.path.join(folder_path, chord_shape.value, f'{chord_shape.value}_landmarks.csv')\n",
    "with open(csv_file_path, mode='w', newline='') as csv_file:\n",
    "        csv_writer = csv.writer(csv_file)\n",
    "        header_row = ['Class'] + [f'Landmark_{i+1}_x' for i in range(21)] + [f'Landmark_{i+1}_y' for i in range(21)] + [f'Landmark_{i+1}_z' for i in range(21)] \n",
    "        csv_writer.writerow(header_row)\n",
    "        csv_writer.writerows(landmarks_data)"
   ]
  },
  {
   "cell_type": "code",
   "execution_count": 55,
   "metadata": {},
   "outputs": [],
   "source": [
    "capture_hand_finger_wrong(finger.value, wrong_right.value)"
   ]
  },
  {
   "cell_type": "code",
   "execution_count": 50,
   "metadata": {},
   "outputs": [],
   "source": [
    "csv_file_path = 'D:\\Chord_Data\\Chords\\Chords_test_data.csv'\n",
    "with open(csv_file_path, mode='w', newline='') as csv_file:\n",
    "        csv_writer = csv.writer(csv_file)\n",
    "        header_row = ['Class'] + [f'Landmark_{i+1}_x' for i in range(21)] + [f'Landmark_{i+1}_y' for i in range(21)] + [f'Landmark_{i+1}_z' for i in range(21)]\n",
    "        csv_writer.writerow(header_row)\n",
    "        csv_writer.writerows(landmarks_data)"
   ]
  },
  {
   "cell_type": "code",
   "execution_count": null,
   "metadata": {},
   "outputs": [],
   "source": [
    "csv_file_path = os.path.join(folder_path, finger.value, wrong_right.value, f'{finger.value}_landmarks_finetune.csv')\n",
    "with open(csv_file_path, mode='w', newline='') as csv_file:\n",
    "        csv_writer = csv.writer(csv_file)\n",
    "        header_row = ['Class'] + [f'Landmark_{i+1}_x' for i in range(4)] + [f'Landmark_{i+1}_y' for i in range(4)] + [f'Landmark_{i+1}_z' for i in range(4)]\n",
    "        csv_writer.writerow(header_row)\n",
    "        csv_writer.writerows(landmarks_data)"
   ]
  },
  {
   "cell_type": "code",
   "execution_count": 51,
   "metadata": {},
   "outputs": [],
   "source": [
    "cap.release()\n",
    "cv2.destroyAllWindows()"
   ]
  },
  {
   "cell_type": "code",
   "execution_count": 21,
   "metadata": {},
   "outputs": [],
   "source": [
    "folder_path_inside = r'D:\\Chord_Data\\C\\Correct'\n",
    "def process_image(image_path):\n",
    "    image = cv2.imread(image_path)\n",
    "    if image is None:\n",
    "        print(f\"Error loading image: {image_path}\")\n",
    "        return\n",
    "    rgb_image = cv2.cvtColor(image, cv2.COLOR_BGR2RGB)\n",
    "    mp_hands = mp.solutions.hands\n",
    "    hands = mp_hands.Hands(static_image_mode=True, max_num_hands=2)\n",
    "    results = hands.process(rgb_image)\n",
    "    if results.multi_hand_landmarks:\n",
    "        for hand_landmarks in results.multi_hand_landmarks:\n",
    "            mp_drawing = mp.solutions.drawing_utils\n",
    "            mp_drawing.draw_landmarks(image, hand_landmarks, mp_hands.HAND_CONNECTIONS)\n",
    "    return image"
   ]
  }
 ],
 "metadata": {
  "kernelspec": {
   "display_name": "Python 3",
   "language": "python",
   "name": "python3"
  },
  "language_info": {
   "codemirror_mode": {
    "name": "ipython",
    "version": 3
   },
   "file_extension": ".py",
   "mimetype": "text/x-python",
   "name": "python",
   "nbconvert_exporter": "python",
   "pygments_lexer": "ipython3",
   "version": "3.10.11"
  }
 },
 "nbformat": 4,
 "nbformat_minor": 2
}
