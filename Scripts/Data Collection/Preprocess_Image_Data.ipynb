{
 "cells": [
  {
   "cell_type": "code",
   "execution_count": 1,
   "metadata": {},
   "outputs": [],
   "source": [
    "from PIL import Image\n",
    "import numpy as np\n",
    "import os\n",
    "import cv2"
   ]
  },
  {
   "cell_type": "code",
   "execution_count": 28,
   "metadata": {},
   "outputs": [],
   "source": [
    "input_dir = r'D:\\Chord_Data\\Angle_Barre\\test_img\\1'\n",
    "output_dir = r'D:\\Chord_Data\\Angle_Barre\\test_img_yc\\1'\n",
    "if not os.path.exists(output_dir):\n",
    "    os.makedirs(output_dir)"
   ]
  },
  {
   "cell_type": "code",
   "execution_count": 2,
   "metadata": {},
   "outputs": [],
   "source": [
    "def draw_black_contours(image):\n",
    "    gray = cv2.cvtColor(image, cv2.COLOR_BGR2GRAY)\n",
    "    _, thresh = cv2.threshold(gray, 127, 255, cv2.THRESH_BINARY)\n",
    "    contours, _ = cv2.findContours(thresh, cv2.RETR_EXTERNAL, cv2.CHAIN_APPROX_SIMPLE)\n",
    "    cv2.drawContours(image, contours, -1, (0, 0, 0), 2)\n",
    "    return image"
   ]
  },
  {
   "cell_type": "code",
   "execution_count": 29,
   "metadata": {},
   "outputs": [],
   "source": [
    "for filename in os.listdir(input_dir):\n",
    "    if filename.lower().endswith(('.jpg')):\n",
    "        image = Image.open(os.path.join(input_dir, filename))\n",
    "        input_path = os.path.join(input_dir, filename)\n",
    "        bgr_image = cv2.imread(input_path)\n",
    "        ycbcr_image = cv2.cvtColor(bgr_image, cv2.COLOR_BGR2YCrCb)\n",
    "        output_path = os.path.join(output_dir, filename)\n",
    "        cv2.imwrite(output_path, ycbcr_image)"
   ]
  },
  {
   "cell_type": "code",
   "execution_count": 11,
   "metadata": {},
   "outputs": [],
   "source": [
    "for filename in os.listdir(input_dir):\n",
    "    if filename.lower().endswith(('.jpg')):\n",
    "        input_path = os.path.join(input_dir, filename)\n",
    "        bgr_image = cv2.imread(input_path)\n",
    "        mask_image = draw_black_contours(bgr_image)\n",
    "        output_path = os.path.join(output_dir, filename)\n",
    "        cv2.imwrite(output_path, mask_image)"
   ]
  },
  {
   "cell_type": "code",
   "execution_count": 21,
   "metadata": {},
   "outputs": [],
   "source": [
    "for filename in os.listdir(input_dir):\n",
    "    if filename.lower().endswith(('.jpg')):\n",
    "        input_path = os.path.join(input_dir, filename)\n",
    "        bgr_image = cv2.imread(input_path)\n",
    "        rgb_planes = cv2.split(bgr_image)\n",
    "        diff_plane = []\n",
    "        for plane in rgb_planes:\n",
    "                dilated_img = cv2.dilate(plane, np.ones((11, 11), np.uint8))\n",
    "                bg_img = cv2.medianBlur(dilated_img, 31)\n",
    "                diff_img = cv2.absdiff(plane, bg_img)\n",
    "                inv_diff_img = 255 - diff_img\n",
    "                norm_img = cv2.normalize(inv_diff_img, None, alpha=0, beta=255, norm_type=cv2.NORM_MINMAX, dtype=cv2.CV_8UC1)\n",
    "                result_plane = cv2.subtract(plane, norm_img)\n",
    "                diff_plane.append(norm_img)\n",
    "        nosha_image = cv2.merge(diff_plane)\n",
    "        output_path = os.path.join(output_dir, filename)\n",
    "        cv2.imwrite(output_path, nosha_image)"
   ]
  },
  {
   "cell_type": "code",
   "execution_count": null,
   "metadata": {},
   "outputs": [],
   "source": [
    "#For Chord data\n",
    "for i in range(12):\n",
    "    input_dir = f'D:\\\\Chord_Data\\\\Chords\\\\Test_Img\\\\{i}'\n",
    "    output_dir = f'D:\\\\Chord_Data\\\\Chords\\\\Test_Img_Mask\\\\{i}'\n",
    "    if not os.path.exists(output_dir):\n",
    "        os.makedirs(output_dir)\n",
    "    for filename in os.listdir(input_dir):\n",
    "        if filename.lower().endswith(('.png', '.jpg', '.jpeg', '.bmp', '.tiff')):\n",
    "            input_path = os.path.join(input_dir, filename)\n",
    "            bgr_image = cv2.imread(input_path)\n",
    "            mask_image = draw_black_contours(bgr_image)\n",
    "            output_path = os.path.join(output_dir, filename)\n",
    "            cv2.imwrite(output_path, mask_image)"
   ]
  },
  {
   "cell_type": "code",
   "execution_count": null,
   "metadata": {},
   "outputs": [],
   "source": [
    "#For Chord data\n",
    "for i in range(12):\n",
    "    input_dir = f'D:\\\\Chord_Data\\\\Chords\\\\Test_Img\\\\{i}'\n",
    "    output_dir = f'D:\\\\Chord_Data\\\\Chords\\\\Test_Img_no_sha\\\\{i}'\n",
    "    if not os.path.exists(output_dir):\n",
    "        os.makedirs(output_dir)\n",
    "    for filename in os.listdir(input_dir):\n",
    "        if filename.lower().endswith(('.png', '.jpg', '.jpeg', '.bmp', '.tiff')):\n",
    "            input_path = os.path.join(input_dir, filename)\n",
    "            bgr_image = cv2.imread(input_path)\n",
    "            rgb_planes = cv2.split(bgr_image)\n",
    "            diff_plane = []\n",
    "            for plane in rgb_planes:\n",
    "                dilated_img = cv2.dilate(plane, np.ones((11, 11), np.uint8))\n",
    "                bg_img = cv2.medianBlur(dilated_img, 31)\n",
    "                diff_img = cv2.absdiff(plane, bg_img)\n",
    "                inv_diff_img = 255 - diff_img\n",
    "                norm_img = cv2.normalize(inv_diff_img, None, alpha=0, beta=255, norm_type=cv2.NORM_MINMAX, dtype=cv2.CV_8UC1)\n",
    "                result_plane = cv2.subtract(plane, norm_img)\n",
    "                diff_plane.append(norm_img)\n",
    "            nosha_image = cv2.merge(diff_plane)\n",
    "            output_path = os.path.join(output_dir, filename)\n",
    "            cv2.imwrite(output_path, nosha_image)"
   ]
  },
  {
   "cell_type": "code",
   "execution_count": 8,
   "metadata": {},
   "outputs": [],
   "source": [
    "#For Chord datas\n",
    "for i in range(12):\n",
    "    input_dir = f'D:\\\\Chord_Data\\\\Chords\\\\Test_Img\\\\{i}'\n",
    "    output_dir = f'D:\\\\Chord_Data\\\\Chords\\\\Test_Img_Yc\\\\{i}'\n",
    "    if not os.path.exists(output_dir):\n",
    "        os.makedirs(output_dir)\n",
    "    for filename in os.listdir(input_dir):\n",
    "        if filename.lower().endswith(('.png', '.jpg', '.jpeg', '.bmp', '.tiff')):\n",
    "            image = Image.open(os.path.join(input_dir, filename))\n",
    "            input_path = os.path.join(input_dir, filename)\n",
    "            bgr_image = cv2.imread(input_path)\n",
    "            ycbcr_image = cv2.cvtColor(bgr_image, cv2.COLOR_BGR2YCrCb)\n",
    "            output_path = os.path.join(output_dir, filename)\n",
    "            cv2.imwrite(output_path, ycbcr_image)"
   ]
  }
 ],
 "metadata": {
  "kernelspec": {
   "display_name": "Python 3",
   "language": "python",
   "name": "python3"
  },
  "language_info": {
   "codemirror_mode": {
    "name": "ipython",
    "version": 3
   },
   "file_extension": ".py",
   "mimetype": "text/x-python",
   "name": "python",
   "nbconvert_exporter": "python",
   "pygments_lexer": "ipython3",
   "version": "3.10.11"
  }
 },
 "nbformat": 4,
 "nbformat_minor": 2
}
